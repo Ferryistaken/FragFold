{
 "cells": [
  {
   "cell_type": "code",
   "execution_count": 1,
   "id": "ead45c36-e484-48f4-babe-0114f13cd9fb",
   "metadata": {},
   "outputs": [],
   "source": [
    "import json\n",
    "import glob\n",
    "from pathlib import Path"
   ]
  },
  {
   "cell_type": "code",
   "execution_count": 13,
   "id": "03336192-d58f-4ff0-9b09-ac73c7f83533",
   "metadata": {},
   "outputs": [
    {
     "name": "stdout",
     "output_type": "stream",
     "text": [
      "[{'native_structure': '6unx_ftsZ_ABC.pdb', 'native_protein_chains': ['A'], 'native_fragment_chain': 'C', 'fragment_res_start': 116, 'fragment_res_length': 30, 'colabfold_protein_chains': ['A'], 'colabfold_protein_chains_start': [10], 'colabfold_fragment_chain': 'B', 'fragment_parent_name': 'ftsZ-coding-EcoliBL21DE3', 'description': '30aa_monomer_ftsZ', 'protein_name': 'ftsZ'}, {'native_structure': '6unx_ftsZ_ABC.pdb', 'native_protein_chains': ['A'], 'native_fragment_chain': 'C', 'fragment_res_start': 163, 'fragment_res_length': 30, 'colabfold_protein_chains': ['A'], 'colabfold_protein_chains_start': [10], 'colabfold_fragment_chain': 'B', 'fragment_parent_name': 'ftsZ-coding-EcoliBL21DE3', 'description': '30aa_monomer_ftsZ', 'protein_name': 'ftsZ'}, {'native_structure': '6unx_ftsZ_ABC.pdb', 'native_protein_chains': ['A'], 'native_fragment_chain': 'B', 'fragment_res_start': 186, 'fragment_res_length': 30, 'colabfold_protein_chains': ['A'], 'colabfold_protein_chains_start': [10], 'colabfold_fragment_chain': 'B', 'fragment_parent_name': 'ftsZ-coding-EcoliBL21DE3', 'description': '30aa_monomer_ftsZ', 'protein_name': 'ftsZ'}, {'native_structure': '6unx_ftsZ_ABC.pdb', 'native_protein_chains': ['A'], 'native_fragment_chain': 'B', 'fragment_res_start': 258, 'fragment_res_length': 30, 'colabfold_protein_chains': ['A'], 'colabfold_protein_chains_start': [10], 'colabfold_fragment_chain': 'B', 'fragment_parent_name': 'ftsZ-coding-EcoliBL21DE3', 'description': '30aa_monomer_ftsZ', 'protein_name': 'ftsZ'}, {'native_structure': '6rks_gyrA_AC_gyrB_BD.pdb', 'native_protein_chains': ['B'], 'native_fragment_chain': 'A', 'fragment_res_start': 12, 'fragment_res_length': 30, 'colabfold_protein_chains': ['A'], 'colabfold_protein_chains_start': [1], 'colabfold_fragment_chain': 'B', 'fragment_parent_name': 'gyrA-coding-EcoliBL21DE3', 'description': '30aa_monomer_gyrB', 'protein_name': 'gyrB'}, {'native_structure': '6rks_gyrA_AC_gyrB_BD.pdb', 'native_protein_chains': ['C'], 'native_fragment_chain': 'A', 'fragment_res_start': 371, 'fragment_res_length': 30, 'colabfold_protein_chains': ['A'], 'colabfold_protein_chains_start': [1], 'colabfold_fragment_chain': 'B', 'fragment_parent_name': 'gyrA-coding-EcoliBL21DE3', 'description': '30aa_monomer_gyrA', 'protein_name': 'gyrA'}, {'native_structure': '1rqu_rplL_AB.pdb', 'native_protein_chains': ['B'], 'native_fragment_chain': 'A', 'fragment_res_start': 5, 'fragment_res_length': 30, 'colabfold_protein_chains': ['A'], 'colabfold_protein_chains_start': [1], 'colabfold_fragment_chain': 'B', 'fragment_parent_name': 'rplL-coding-EcoliBL21DE3', 'description': '30aa_monomer_rplL', 'protein_name': 'rplL'}, {'native_structure': '3j7z_rplL_6_rplJ_5.pdb', 'native_protein_chains': ['5'], 'native_fragment_chain': '6', 'fragment_res_start': 5, 'fragment_res_length': 30, 'colabfold_protein_chains': ['A'], 'colabfold_protein_chains_start': [1], 'colabfold_fragment_chain': 'B', 'fragment_parent_name': 'rplL-coding-EcoliBL21DE3', 'description': '30aa_monomer_rplJ', 'protein_name': 'rplJ'}, {'native_structure': '1eqq_ssb_ABCD.pdb', 'native_protein_chains': ['C'], 'native_fragment_chain': 'D', 'fragment_res_start': 52, 'fragment_res_length': 30, 'colabfold_protein_chains': ['A'], 'colabfold_protein_chains_start': [1, 1], 'colabfold_fragment_chain': 'B', 'fragment_parent_name': 'ssb-coding-EcoliBL21DE3', 'description': '30aa_monomer_ssb', 'protein_name': 'ssb'}, {'native_structure': '1eqq_ssb_ABCD.pdb', 'native_protein_chains': ['A', 'B'], 'native_fragment_chain': 'C', 'fragment_res_start': 52, 'fragment_res_length': 30, 'colabfold_protein_chains': ['A', 'B'], 'colabfold_protein_chains_start': [1, 1], 'colabfold_fragment_chain': 'C', 'fragment_parent_name': 'ssb-coding-EcoliBL21DE3', 'description': '30aa_dimer_ssb', 'protein_name': 'ssb'}, {'native_structure': '1aon_groEL_POUBAGHNM.pdb', 'native_protein_chains': ['B'], 'native_fragment_chain': 'A', 'fragment_res_start': 3, 'fragment_res_length': 30, 'colabfold_protein_chains': ['A'], 'colabfold_protein_chains_start': [1], 'colabfold_fragment_chain': 'B', 'fragment_parent_name': 'groL-coding-EcoliBL21DE3', 'description': '30aa_monomer_groL', 'protein_name': 'groL'}, {'native_structure': '1aon_groEL_POUBAGHNM.pdb', 'native_protein_chains': ['B'], 'native_fragment_chain': 'A', 'fragment_res_start': 87, 'fragment_res_length': 30, 'colabfold_protein_chains': ['A'], 'colabfold_protein_chains_start': [1], 'colabfold_fragment_chain': 'B', 'fragment_parent_name': 'groL-coding-EcoliBL21DE3', 'description': '30aa_monomer_groL', 'protein_name': 'groL'}, {'native_structure': '1aon_groEL_POUBAGHNM.pdb', 'native_protein_chains': ['B'], 'native_fragment_chain': 'A', 'fragment_res_start': 486, 'fragment_res_length': 30, 'colabfold_protein_chains': ['A'], 'colabfold_protein_chains_start': [1], 'colabfold_fragment_chain': 'B', 'fragment_parent_name': 'groL-coding-EcoliBL21DE3', 'description': '30aa_monomer_groL', 'protein_name': 'groL'}, {'native_structure': '1aon_groEL_BAGHNM_groES_POU.pdb', 'native_protein_chains': ['O'], 'native_fragment_chain': 'A', 'fragment_res_start': 229, 'fragment_res_length': 30, 'colabfold_protein_chains': ['A'], 'colabfold_protein_chains_start': [1], 'colabfold_fragment_chain': 'B', 'fragment_parent_name': 'groL-coding-EcoliBL21DE3', 'description': '30aa_monomer_groS', 'protein_name': 'groS'}, {'native_structure': '1aon_groEL_BAGHNM_groES_POU.pdb', 'native_protein_chains': ['O'], 'native_fragment_chain': 'A', 'fragment_res_start': 246, 'fragment_res_length': 30, 'colabfold_protein_chains': ['A'], 'colabfold_protein_chains_start': [1], 'colabfold_fragment_chain': 'B', 'fragment_parent_name': 'groL-coding-EcoliBL21DE3', 'description': '30aa_monomer_groS', 'protein_name': 'groS'}, {'native_structure': '1aon_groEL_BAGHNM_groES_POU.pdb', 'native_protein_chains': ['O'], 'native_fragment_chain': 'A', 'fragment_res_start': 246, 'fragment_res_length': 30, 'colabfold_protein_chains': ['A'], 'colabfold_protein_chains_start': [1], 'colabfold_fragment_chain': 'B', 'fragment_parent_name': 'groL-coding-EcoliBL21DE3', 'description': '30aa_monomer_groS', 'protein_name': 'groS'}, {'native_structure': '6mi7_lptG_G_lptF_F.pdb', 'native_protein_chains': ['F'], 'native_fragment_chain': 'G', 'fragment_res_start': 317, 'fragment_res_length': 14, 'colabfold_protein_chains': ['A'], 'colabfold_protein_chains_start': [1], 'colabfold_fragment_chain': 'B', 'fragment_parent_name': 'lptG-coding-EcoliBL21DE3', 'description': '30aa_monomer_lptF', 'protein_name': 'lptF'}]\n"
     ]
    }
   ],
   "source": [
    "json_path = 'old/colabfold_contact_recovery_240521fix.json'\n",
    "new_json_path = Path(json_path).name\n",
    "with open(json_path,\"r\") as file:\n",
    "    colab_results = json.loads(file.read())\n",
    "\n",
    "# replace old key names\n",
    "for d in colab_results:\n",
    "    d['fragment_parent_name'] = d.pop('colabfold_gene')\n",
    "    d['description'] = d.pop('colabfold_condition')\n",
    "    d['protein_name'] = d['description'].split('_')[-1]\n",
    "\n",
    "print(colab_results)\n",
    "    \n",
    "with open(new_json_path,'w') as file:\n",
    "    colab_results = json.dump(colab_results,file,indent=4)"
   ]
  },
  {
   "cell_type": "code",
   "execution_count": null,
   "id": "29af4269-479b-4ceb-beaa-9c5d7066e593",
   "metadata": {},
   "outputs": [],
   "source": []
  }
 ],
 "metadata": {
  "kernelspec": {
   "display_name": "Python 3 (ipykernel)",
   "language": "python",
   "name": "python3"
  },
  "language_info": {
   "codemirror_mode": {
    "name": "ipython",
    "version": 3
   },
   "file_extension": ".py",
   "mimetype": "text/x-python",
   "name": "python",
   "nbconvert_exporter": "python",
   "pygments_lexer": "ipython3",
   "version": "3.8.15"
  }
 },
 "nbformat": 4,
 "nbformat_minor": 5
}
