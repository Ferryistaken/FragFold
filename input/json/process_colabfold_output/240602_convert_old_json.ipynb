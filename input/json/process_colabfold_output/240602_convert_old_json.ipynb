{
 "cells": [
  {
   "cell_type": "code",
   "execution_count": 11,
   "id": "ead45c36-e484-48f4-babe-0114f13cd9fb",
   "metadata": {},
   "outputs": [],
   "source": [
    "import json\n",
    "import glob\n",
    "from pathlib import Path"
   ]
  },
  {
   "cell_type": "markdown",
   "id": "c46facf8-e000-4046-a44d-d64c269f17f0",
   "metadata": {
    "jp-MarkdownHeadingCollapsed": true,
    "tags": []
   },
   "source": [
    "# initial test"
   ]
  },
  {
   "cell_type": "code",
   "execution_count": 10,
   "id": "03336192-d58f-4ff0-9b09-ac73c7f83533",
   "metadata": {},
   "outputs": [
    {
     "name": "stdout",
     "output_type": "stream",
     "text": [
      "folA-coding-EcoliBL21DE3 30aa_monomer_folA /data1/groups/keatinglab/swans/savinovCollaboration/folA/data/230526_colabfold115_folA\n",
      "ftsZ-coding-EcoliBL21DE3 30aa_monomer_ftsZ /data1/groups/keatinglab/swans/savinovCollaboration/ftsZ/data/230526_colabfold115_ftsZ\n",
      "ftsZ-coding-EcoliBL21DE3 20aa_monomer_ftsZ /data1/groups/keatinglab/swans/savinovCollaboration/ftsZ/data/230323_colabfold_ftsZ_ftsZ20aafragments\n",
      "groL-coding-EcoliBL21DE3 30aa_monomer_groL /data1/groups/keatinglab/swans/savinovCollaboration/groL/data/230526_colabfold115_groL\n",
      "groL-coding-EcoliBL21DE3 30aa_monomer_groS /data1/groups/keatinglab/swans/savinovCollaboration/groL/data/230526_colabfold115_groL-groS\n",
      "groS-coding-EcoliBL21DE3 30aa_monomer_groS /data1/groups/keatinglab/swans/savinovCollaboration/groS/data/230526_colabfold115_groS\n",
      "gyrA-coding-EcoliBL21DE3 30aa_monomer_gyrB /data1/groups/keatinglab/swans/savinovCollaboration/gyrA/data/230526_colabfold115_gyrA-gyrB\n",
      "gyrA-coding-EcoliBL21DE3 30aa_monomer_gyrA /data1/groups/keatinglab/swans/savinovCollaboration/gyrA/data/230526_colabfold115_gyrA\n",
      "lptG-coding-EcoliBL21DE3 30aa_monomer_lptG /data1/groups/keatinglab/swans/savinovCollaboration/lptG/data/230526_colabfold115_lptG\n",
      "lptG-coding-EcoliBL21DE3 30aa_monomer_lptF /data1/groups/keatinglab/swans/savinovCollaboration/lptG/data/230526_colabfold115_lptG-lptF\n",
      "rplL-coding-EcoliBL21DE3 30aa_monomer_rplJ /data1/groups/keatinglab/swans/savinovCollaboration/rplL/data/230526_colabfold115_rplL-rplJ\n",
      "rplL-coding-EcoliBL21DE3 30aa_monomer_rplL /data1/groups/keatinglab/swans/savinovCollaboration/rplL/data/230526_colabfold115_rplL\n",
      "ssb-coding-EcoliBL21DE3 30aa_monomer_ssb /data1/groups/keatinglab/swans/savinovCollaboration/ssb/data/230526_colabfold115_ssb\n"
     ]
    }
   ],
   "source": [
    "json_path = 'old/colabfold115_output_main.json'\n",
    "with open(json_path,\"r\") as file:\n",
    "            colab_results = json.loads(file.read())\n",
    "\n",
    "with open(Path(json_path).stem+'.json','w') as file:\n",
    "    for fragment_parent_name,dict1 in colab_results.items():\n",
    "        for description,dict2 in dict1.items():\n",
    "            old_colabfold_path = dict1[description]['colabfold']\n",
    "            print(fragment_parent_name,description,dict1[description]['colabfold'])\n",
    "# print(colab_results)"
   ]
  },
  {
   "cell_type": "markdown",
   "id": "39966d6e-90e9-45ee-ba31-eb89fbc8e249",
   "metadata": {
    "tags": []
   },
   "source": [
    "# define function and create new json files"
   ]
  },
  {
   "cell_type": "code",
   "execution_count": 2,
   "id": "abb35992-4aa6-473f-a8b3-72db5b1c0429",
   "metadata": {},
   "outputs": [],
   "source": [
    "def update_json_format(json_path,dir_path,extra_subdir=''):\n",
    "    dir_path = Path(dir_path)\n",
    "    assert dir_path.is_dir()\n",
    "    with open(json_path,\"r\") as file:\n",
    "                colab_results = json.loads(file.read())\n",
    "            \n",
    "    new_json_path = Path(json_path).stem+'.json'\n",
    "    colab_results_list = []\n",
    "    for fragment_parent_name,dict1 in colab_results.items():\n",
    "        for description,dict2 in dict1.items():\n",
    "            old_colabfold_path = dict1[description]['colabfold']\n",
    "            updated_path = dir_path / Path(old_colabfold_path).stem if extra_subdir == '' else dir_path / Path(old_colabfold_path).stem / extra_subdir\n",
    "            assert updated_path.is_dir(),updated_path\n",
    "            split = description.split('_')\n",
    "            assert len(split) == 3,split\n",
    "            length,copies,protein_name = split\n",
    "            colab_results_list.append([\n",
    "                str(updated_path),\n",
    "                fragment_parent_name,\n",
    "                protein_name,\n",
    "                description\n",
    "            ])\n",
    "            \n",
    "    with open(new_json_path,'w') as file:\n",
    "        colab_results = json.dump(colab_results_list,file)"
   ]
  },
  {
   "cell_type": "code",
   "execution_count": 4,
   "id": "bc55404a-d992-48ae-ad90-9ba870575b7c",
   "metadata": {},
   "outputs": [],
   "source": [
    "json_path = 'old/colabfold115_output_main.json'\n",
    "v1_data_dir = '/data1/groups/keatinglab/swans/savinovCollaboration/FragFold/results/v1/data'\n",
    "update_json_format(json_path,v1_data_dir,'data')"
   ]
  },
  {
   "cell_type": "code",
   "execution_count": 5,
   "id": "220a6ca9-15ff-4e57-9ff8-305bed81e9cb",
   "metadata": {},
   "outputs": [],
   "source": [
    "json_path = 'old/colabfold115_output_ftsZcontrols.json'\n",
    "v1_data_dir = '/data1/groups/keatinglab/swans/savinovCollaboration/FragFold/results/v1/data'\n",
    "update_json_format(json_path,v1_data_dir,'data')"
   ]
  },
  {
   "cell_type": "code",
   "execution_count": 6,
   "id": "f99f4747-1e71-4b54-ab18-ced74f155b7e",
   "metadata": {},
   "outputs": [],
   "source": [
    "json_path = 'old/colabfold115_output_ftsZnovelpartners.json'\n",
    "v1_data_dir = '/data1/groups/keatinglab/swans/savinovCollaboration/FragFold/results/v1/data'\n",
    "update_json_format(json_path,v1_data_dir,'data')"
   ]
  },
  {
   "cell_type": "code",
   "execution_count": 7,
   "id": "4ea09aaf-ed79-4a37-8e8f-6aaeec261059",
   "metadata": {},
   "outputs": [],
   "source": [
    "json_path = 'old/colabfold115_output_revisions.json'\n",
    "v1_data_dir = '/data1/groups/keatinglab/swans/savinovCollaboration/FragFold/results/v1/data'\n",
    "update_json_format(json_path,v1_data_dir,'data')"
   ]
  },
  {
   "cell_type": "code",
   "execution_count": 8,
   "id": "6c09cd6d-5410-4b38-8dcd-85c62d39b9fb",
   "metadata": {},
   "outputs": [],
   "source": [
    "json_path = 'old/colabfold115_output_ftsZspecificity.json'\n",
    "v1_data_dir = '/data1/groups/keatinglab/swans/savinovCollaboration/FragFold/results/v1/data'\n",
    "update_json_format(json_path,v1_data_dir,'data')"
   ]
  },
  {
   "cell_type": "code",
   "execution_count": 9,
   "id": "2d42c672-7196-45ac-85cb-e3cf8b6eb456",
   "metadata": {},
   "outputs": [],
   "source": [
    "json_path = 'old/colabfold115_output_gyrAspecificity.json'\n",
    "v1_data_dir = '/data1/groups/keatinglab/swans/savinovCollaboration/FragFold/results/v1/data'\n",
    "update_json_format(json_path,v1_data_dir,'data')"
   ]
  },
  {
   "cell_type": "code",
   "execution_count": 10,
   "id": "650babfe-29b6-4ff3-815e-26af2942753b",
   "metadata": {},
   "outputs": [],
   "source": [
    "json_path = 'old/colabfold115_output_rplLspecificity.json'\n",
    "v1_data_dir = '/data1/groups/keatinglab/swans/savinovCollaboration/FragFold/results/v1/data'\n",
    "update_json_format(json_path,v1_data_dir,'data')"
   ]
  },
  {
   "cell_type": "code",
   "execution_count": 50,
   "id": "70647e26-b369-4ff8-bcea-7a419bfaa70a",
   "metadata": {},
   "outputs": [],
   "source": [
    "# json_path = 'old/colabfold115_output_eGFPspecificity.json'\n",
    "# v1_data_dir = '/data1/groups/keatinglab/swans/savinovCollaboration/FragFold/results/v1/data'\n",
    "# update_json_format(json_path,v1_data_dir,'data')"
   ]
  },
  {
   "cell_type": "markdown",
   "id": "84a4fd81-12b8-4149-b740-8dc60df0e8f7",
   "metadata": {},
   "source": [
    "# Combine JSONs"
   ]
  },
  {
   "cell_type": "code",
   "execution_count": 16,
   "id": "a9208e00-d51a-40b3-b86b-fd8db56d3fd3",
   "metadata": {},
   "outputs": [],
   "source": [
    "json_path_list = [\n",
    " 'colabfold115_output_main.json',\n",
    " 'colabfold115_output_rplLspecificity.json',\n",
    " 'colabfold115_output_ftsZnovelpartners.json',\n",
    " 'colabfold115_output_gyrAspecificity.json',\n",
    " 'colabfold115_output_ftsZspecificity.json',\n",
    " 'colabfold115_output_revisions.json',\n",
    " 'colabfold115_output_ftsZcontrols.json'\n",
    "]\n",
    "\n",
    "data_list = []\n",
    "for path in json_path_list:\n",
    "    with open(path,\"r\") as file:\n",
    "        colab_results = json.loads(file.read())\n",
    "    data_list += colab_results\n",
    "    \n",
    "with open('colabfold115_output_combined.json','w') as file:\n",
    "    colab_results = json.dump(data_list,file)"
   ]
  },
  {
   "cell_type": "code",
   "execution_count": null,
   "id": "29af4269-479b-4ceb-beaa-9c5d7066e593",
   "metadata": {},
   "outputs": [],
   "source": []
  }
 ],
 "metadata": {
  "kernelspec": {
   "display_name": "Python 3 (ipykernel)",
   "language": "python",
   "name": "python3"
  },
  "language_info": {
   "codemirror_mode": {
    "name": "ipython",
    "version": 3
   },
   "file_extension": ".py",
   "mimetype": "text/x-python",
   "name": "python",
   "nbconvert_exporter": "python",
   "pygments_lexer": "ipython3",
   "version": "3.8.15"
  }
 },
 "nbformat": 4,
 "nbformat_minor": 5
}
