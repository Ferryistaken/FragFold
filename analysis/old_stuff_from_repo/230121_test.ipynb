{
 "cells": [
  {
   "cell_type": "code",
   "execution_count": 2,
   "id": "e831b0f1",
   "metadata": {},
   "outputs": [],
   "source": [
    "import json\n",
    "import numpy as np"
   ]
  },
  {
   "cell_type": "code",
   "execution_count": 9,
   "id": "bfe5ce3d",
   "metadata": {},
   "outputs": [],
   "source": [
    "path = '/data1/groups/keatinglab/swans/savinovCollaboration/ssb/data/230105_colabfold_ssbdimer/data/ssb2copies_1-178_ssb_23-52/output/ssb2copies_1-178_ssb_23-52_unrelaxed_rank_1_model_4_scores.json'\n",
    "with open(path,'r') as file:\n",
    "    score_data = json.load(file)"
   ]
  },
  {
   "cell_type": "code",
   "execution_count": 10,
   "id": "94563388",
   "metadata": {},
   "outputs": [
    {
     "data": {
      "text/plain": [
       "dict_keys(['max_pae', 'pae', 'plddt', 'ptm'])"
      ]
     },
     "execution_count": 10,
     "metadata": {},
     "output_type": "execute_result"
    }
   ],
   "source": [
    "score_data.keys()"
   ]
  },
  {
   "cell_type": "code",
   "execution_count": 11,
   "id": "fcd49d0c",
   "metadata": {},
   "outputs": [
    {
     "data": {
      "text/plain": [
       "352"
      ]
     },
     "execution_count": 11,
     "metadata": {},
     "output_type": "execute_result"
    }
   ],
   "source": [
    "len(score_data['plddt'])"
   ]
  },
  {
   "cell_type": "code",
   "execution_count": 12,
   "id": "ed4c6a8b",
   "metadata": {},
   "outputs": [],
   "source": [
    "path = '/data1/groups/keatinglab/swans/savinovCollaboration/ssb/data/230105_colabfold_ssbdimer/data/ssb2copies_1-178_ssb_23-52/output/ssb2copies_1-178_ssb_23-52_predicted_aligned_error_v1.json'\n",
    "with open(path,'r') as file:\n",
    "    pae_data = json.load(file)"
   ]
  },
  {
   "cell_type": "code",
   "execution_count": 16,
   "id": "ab7fc0fe",
   "metadata": {},
   "outputs": [
    {
     "data": {
      "text/plain": [
       "1"
      ]
     },
     "execution_count": 16,
     "metadata": {},
     "output_type": "execute_result"
    }
   ],
   "source": [
    "len(pae_data)"
   ]
  },
  {
   "cell_type": "code",
   "execution_count": 17,
   "id": "d162ae43",
   "metadata": {},
   "outputs": [
    {
     "data": {
      "text/plain": [
       "dict_keys(['residue1', 'residue2', 'distance', 'max_predicted_aligned_error'])"
      ]
     },
     "execution_count": 17,
     "metadata": {},
     "output_type": "execute_result"
    }
   ],
   "source": [
    "pae_data[0].keys()"
   ]
  },
  {
   "cell_type": "code",
   "execution_count": 18,
   "id": "f5e33324",
   "metadata": {},
   "outputs": [
    {
     "data": {
      "text/plain": [
       "161"
      ]
     },
     "execution_count": 18,
     "metadata": {},
     "output_type": "execute_result"
    }
   ],
   "source": [
    "len('MASKGINKVILIGNLGQDPDIRYMPNGGAVASIALATSETWRDKQTGEMREQTEWHRVVLFGKLAEVASEYLRKGAQVYIEGQLRTRKWTDQTGLERYTTEVVVHTGGTMQMLGSRQNSAQGGRVQPQQPQQGRQFSGNSPSPGNTTPSGSFSDDDDSIPF')"
   ]
  },
  {
   "cell_type": "code",
   "execution_count": null,
   "id": "fca78fc6",
   "metadata": {},
   "outputs": [],
   "source": []
  }
 ],
 "metadata": {
  "kernelspec": {
   "display_name": "Python [conda env:.conda-alphafold_fragment_prediction]",
   "language": "python",
   "name": "conda-env-.conda-alphafold_fragment_prediction-py"
  },
  "language_info": {
   "codemirror_mode": {
    "name": "ipython",
    "version": 3
   },
   "file_extension": ".py",
   "mimetype": "text/x-python",
   "name": "python",
   "nbconvert_exporter": "python",
   "pygments_lexer": "ipython3",
   "version": "3.7.12"
  },
  "latex_envs": {
   "LaTeX_envs_menu_present": true,
   "autoclose": false,
   "autocomplete": true,
   "bibliofile": "biblio.bib",
   "cite_by": "apalike",
   "current_citInitial": 1,
   "eqLabelWithNumbers": true,
   "eqNumInitial": 1,
   "hotkeys": {
    "equation": "Ctrl-E",
    "itemize": "Ctrl-I"
   },
   "labels_anchors": false,
   "latex_user_defs": false,
   "report_style_numbering": false,
   "user_envs_cfg": false
  },
  "toc": {
   "base_numbering": 1,
   "nav_menu": {},
   "number_sections": true,
   "sideBar": true,
   "skip_h1_title": false,
   "title_cell": "Table of Contents",
   "title_sidebar": "Contents",
   "toc_cell": false,
   "toc_position": {},
   "toc_section_display": true,
   "toc_window_display": false
  }
 },
 "nbformat": 4,
 "nbformat_minor": 5
}
