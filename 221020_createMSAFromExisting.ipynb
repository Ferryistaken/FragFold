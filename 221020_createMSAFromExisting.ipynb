{
 "cells": [
  {
   "cell_type": "code",
   "execution_count": 1,
   "metadata": {},
   "outputs": [],
   "source": [
    "import os\n",
    "from createMSAFromExisting import *"
   ]
  },
  {
   "cell_type": "code",
   "execution_count": 5,
   "metadata": {},
   "outputs": [],
   "source": [
    "a3m_path = '/Users/sebastianswanson/Keating/projects/binderdesign_FtsZ/FtsZ/pip_colab/google_colab_results/FtsZ_whole_sequence/FtsZ_wholesequence_makemsa_99700.a3m'\n",
    "# Provide the ranges according to desired sequence index\n",
    "protein_range = (11,316)\n",
    "fragment_range = (166,195)\n",
    "subsample = -1 # take only the first 10 sequences\n",
    "fragment_length = 30\n",
    "\n",
    "full_query_seq = ''\n",
    "new_info_line = ''\n",
    "\n",
    "dir_name = f\"FtsZ_tile{str(fragment_length)}aa\"\n",
    "os.makedirs(dir_name, exist_ok=True)\n",
    "for fragment_start in range(1,383-fragment_length+1):\n",
    "    fragment_range = (fragment_start,fragment_start+30-1)\n",
    "    a3m_out_path = f\"{dir_name}/FtsZ_{protein_range[0]}-{protein_range[1]}_FtsZ_{fragment_range[0]}-{fragment_range[1]}.a3m\"\n",
    "    createMSA(a3m_path, protein_range, fragment_range, subsample, a3m_out_path)"
   ]
  },
  {
   "cell_type": "code",
   "execution_count": null,
   "metadata": {},
   "outputs": [],
   "source": [
    "a3m_path = '/Users/sebastianswanson/Keating/projects/binderdesign_FtsZ/FtsZ/pip_colab/google_colab_results/FtsZ_whole_sequence/FtsZ_wholesequence_makemsa_99700.a3m'\n",
    "# Provide the ranges according to desired sequence index\n",
    "protein_range = (11,316)\n",
    "fragment_range = (166,195)\n",
    "subsample = -1 # take only the first 10 sequences\n",
    "fragment_length = 20\n",
    "\n",
    "full_query_seq = ''\n",
    "new_info_line = ''\n",
    "\n",
    "dir_name = f\"FtsZ_tile{str(fragment_length)}aa\"\n",
    "os.makedirs(dir_name, exist_ok=True)\n",
    "for fragment_start in range(1,383-fragment_length+1):\n",
    "    fragment_range = (fragment_start,fragment_start+fragment_length-1)\n",
    "    a3m_out_path = f\"{dir_name}/FtsZ_{protein_range[0]}-{protein_range[1]}_FtsZ_{fragment_range[0]}-{fragment_range[1]}.a3m\"\n",
    "    createMSA(a3m_path, protein_range, fragment_range, subsample, a3m_out_path)"
   ]
  },
  {
   "cell_type": "code",
   "execution_count": null,
   "metadata": {},
   "outputs": [],
   "source": []
  }
 ],
 "metadata": {
  "kernelspec": {
   "display_name": "Python 3",
   "language": "python",
   "name": "python3"
  },
  "language_info": {
   "codemirror_mode": {
    "name": "ipython",
    "version": 3
   },
   "file_extension": ".py",
   "mimetype": "text/x-python",
   "name": "python",
   "nbconvert_exporter": "python",
   "pygments_lexer": "ipython3",
   "version": "3.8.3"
  }
 },
 "nbformat": 4,
 "nbformat_minor": 4
}
